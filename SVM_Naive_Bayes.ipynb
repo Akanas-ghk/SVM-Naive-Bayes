{
  "nbformat": 4,
  "nbformat_minor": 0,
  "metadata": {
    "colab": {
      "provenance": []
    },
    "kernelspec": {
      "name": "python3",
      "display_name": "Python 3"
    },
    "language_info": {
      "name": "python"
    }
  },
  "cells": [
    {
      "cell_type": "markdown",
      "source": [
        "# **Q1. What is a Support Vector Machine (SVM)?**\n",
        "Support Vector Machine (SVM) is a supervised machine learning algorithm used for classification and regression tasks. It works by finding the optimal hyperplane that best separates the data points of different classes. SVM aims to maximize the margin (distance) between the closest points of the classes, known as support vectors. In high-dimensional spaces, it can use kernel functions to transform data and handle non-linearly separable problems efficiently.\n",
        "\n",
        "# **Q2. What is the difference between Hard Margin and Soft Margin SVM?**\n",
        "Hard Margin SVM strictly separates the data with a maximum-margin hyperplane and assumes the data is linearly separable without errors. It doesn't tolerate misclassifications.\n",
        "\n",
        "Soft Margin SVM allows some misclassification to improve generalization on noisy or overlapping data. It introduces a penalty parameter C that balances margin maximization and classification error.\n",
        "\n",
        "Soft Margin is more practical and widely used as real-world data is rarely perfectly separable.\n",
        "\n",
        "# **Q3. What is the mathematical intuition behind SVM?**\n",
        "SVM tries to solve an optimization problem:\n",
        "Minimize: ‖w‖²/2\n",
        "Subject to: yi(w·xi + b) ≥ 1 for all i\n",
        "Here, w is the weight vector and b is the bias. The idea is to maximize the margin (1/‖w‖) while ensuring correct classification. For non-linearly separable data, slack variables and kernel functions are introduced. The solution involves converting this constrained problem into a Lagrangian dual form for efficient computation.\n",
        "\n",
        "#**Q4. What is the role of Lagrange Multipliers in SVM?**\n",
        "Lagrange Multipliers help convert the constrained optimization problem in SVM into a dual problem, making it easier to solve. By using them, we reformulate the objective with constraints into a function that we can differentiate and optimize. In the dual form, the optimization depends only on dot products of input vectors, allowing us to apply the kernel trick. Lagrange multipliers also help identify support vectors — only those with non-zero multipliers.\n",
        "\n",
        "#**Q5. What are Support Vectors in SVM?**\n",
        "Support Vectors are the critical data points that lie closest to the decision boundary (hyperplane). They \"support\" or define the margin and directly influence the position and orientation of the hyperplane. Only these points have non-zero Lagrange multipliers in the optimization. If support vectors are removed or altered, the decision boundary will shift. They are essential for both classification and regression in SVM.\n",
        "\n",
        "#**Q6. What is a Support Vector Classifier (SVC)?**\n",
        "Support Vector Classifier (SVC) is the classification version of SVM. It finds the optimal separating hyperplane to classify data into different categories. SVC works by maximizing the margin between the classes and uses kernels (like linear, polynomial, or RBF) to handle complex data distributions. It is robust in high-dimensional spaces and effective in cases where the number of dimensions is greater than the number of samples.\n",
        "\n",
        "#**Q7. What is a Support Vector Regressor (SVR)?**\n",
        "Support Vector Regressor (SVR) is an SVM adaptation for regression tasks. It tries to fit a function within a margin of tolerance (epsilon) from the actual target values. Unlike traditional regression, SVR only penalizes predictions that fall outside the epsilon-tube and ignores small errors. It also uses kernels for handling non-linear relationships and controls complexity using parameters like C (penalty) and epsilon.\n",
        "\n",
        "#**Q8. What is the Kernel Trick in SVM?**\n",
        "The Kernel Trick is a method to transform data into a higher-dimensional space without explicitly computing the transformation. It allows SVM to find non-linear decision boundaries efficiently. Instead of computing φ(x) for feature mapping, the kernel function K(x, y) = φ(x)·φ(y) is used. Common kernels include linear, polynomial, and radial basis function (RBF). This trick is key for handling complex data structures in SVM.\n",
        "\n",
        "#**Q9. Compare Linear Kernel, Polynomial Kernel, and RBF Kernel**\n",
        "Linear Kernel: Best for linearly separable data. Simple and fast.\n",
        "\n",
        "Polynomial Kernel: Captures interactions of features by raising the dot product to a specified degree. Good for moderately complex data.\n",
        "\n",
        "RBF Kernel (Gaussian): Highly flexible, maps data to infinite-dimensional space. Suitable for complex and non-linear data.\n",
        "\n",
        "RBF > Polynomial > Linear (in flexibility), but RBF may overfit if not tuned properly.\n",
        "\n",
        "#**Q10. What is the effect of the C parameter in SVM?**\n",
        "The C parameter controls the trade-off between maximizing the margin and minimizing classification error.\n",
        "\n",
        "A small C value allows a wider margin but may tolerate more misclassifications (better generalization).\n",
        "\n",
        "A large C tries to classify every point correctly, possibly at the cost of a smaller margin (risk of overfitting).\n",
        "Choosing the right C is crucial for model performance.\n",
        "#**Q11. What is the role of the Gamma parameter in RBF Kernel SVM?**\n",
        "The Gamma (γ) parameter defines how far the influence of a single training example reaches:\n",
        "\n",
        "Low gamma: broader influence; smooth decision boundaries.\n",
        "\n",
        "High gamma: narrow influence; model focuses on individual points (can overfit).\n",
        "\n",
        "In the RBF kernel, it appears in the formula:\n",
        "K(x, x') = exp(-γ ||x - x'||²)\n",
        "\n",
        "Gamma must be tuned carefully; too high leads to overfitting, too low leads to underfitting.\n",
        "\n",
        "#**Q12. What is the Naïve Bayes classifier, and why is it called \"Naïve\"?**\n",
        "Naïve Bayes is a probabilistic classifier based on Bayes’ Theorem, assuming that all features are independent given the class label — which is a naïve assumption. Despite this simplification, it works surprisingly well, especially in text classification tasks. It calculates the posterior probability for each class and chooses the one with the highest value. The classifier is fast, simple, and performs well with high-dimensional data.\n",
        "\n",
        "#**Q13. What is Bayes’ Theorem?**\n",
        "Bayes’ Theorem describes the probability of an event based on prior knowledge of related conditions:\n",
        "\n",
        "𝑃\n",
        "(\n",
        "𝐴\n",
        "∣\n",
        "𝐵\n",
        ")\n",
        "=\n",
        "𝑃\n",
        "(\n",
        "𝐵\n",
        "∣\n",
        "𝐴\n",
        ")\n",
        "⋅\n",
        "𝑃\n",
        "(\n",
        "𝐴\n",
        ")\n",
        "𝑃\n",
        "(\n",
        "𝐵\n",
        ")\n",
        "P(A∣B)=\n",
        "P(B)\n",
        "P(B∣A)⋅P(A)\n",
        "​\n",
        "\n",
        "Where:\n",
        "\n",
        "𝑃\n",
        "(\n",
        "𝐴\n",
        "∣\n",
        "𝐵\n",
        ")\n",
        "P(A∣B): Posterior probability of A given B\n",
        "\n",
        "𝑃\n",
        "(\n",
        "𝐵\n",
        "∣\n",
        "𝐴\n",
        ")\n",
        "P(B∣A): Likelihood of B given A\n",
        "\n",
        "𝑃\n",
        "(\n",
        "𝐴\n",
        ")\n",
        "P(A): Prior probability of A\n",
        "\n",
        "𝑃\n",
        "(\n",
        "𝐵\n",
        ")\n",
        "P(B): Probability of B (normalizing constant)\n",
        "\n",
        "It helps update beliefs with new evidence.\n",
        "\n",
        "Q11. What is the role of the Gamma parameter in RBF Kernel SVM?\n",
        "The Gamma (γ) parameter defines how far the influence of a single training example reaches:\n",
        "\n",
        "Low gamma: broader influence; smooth decision boundaries.\n",
        "\n",
        "High gamma: narrow influence; model focuses on individual points (can overfit).\n",
        "\n",
        "In the RBF kernel, it appears in the formula:\n",
        "K(x, x') = exp(-γ ||x - x'||²)\n",
        "\n",
        "Gamma must be tuned carefully; too high leads to overfitting, too low leads to underfitting.\n",
        "\n",
        "Q12. What is the Naïve Bayes classifier, and why is it called \"Naïve\"?\n",
        "Naïve Bayes is a probabilistic classifier based on Bayes’ Theorem, assuming that all features are independent given the class label — which is a naïve assumption. Despite this simplification, it works surprisingly well, especially in text classification tasks. It calculates the posterior probability for each class and chooses the one with the highest value. The classifier is fast, simple, and performs well with high-dimensional data.\n",
        "\n",
        "Q13. What is Bayes’ Theorem?\n",
        "Bayes’ Theorem describes the probability of an event based on prior knowledge of related conditions:\n",
        "\n",
        "𝑃\n",
        "(\n",
        "𝐴\n",
        "∣\n",
        "𝐵\n",
        ")\n",
        "=\n",
        "𝑃\n",
        "(\n",
        "𝐵\n",
        "∣\n",
        "𝐴\n",
        ")\n",
        "⋅\n",
        "𝑃\n",
        "(\n",
        "𝐴\n",
        ")\n",
        "𝑃\n",
        "(\n",
        "𝐵\n",
        ")\n",
        "P(A∣B)=\n",
        "P(B)\n",
        "P(B∣A)⋅P(A)\n",
        "​\n",
        "\n",
        "Where:\n",
        "\n",
        "𝑃\n",
        "(\n",
        "𝐴\n",
        "∣\n",
        "𝐵\n",
        ")\n",
        "P(A∣B): Posterior probability of A given B\n",
        "\n",
        "𝑃\n",
        "(\n",
        "𝐵\n",
        "∣\n",
        "𝐴\n",
        ")\n",
        "P(B∣A): Likelihood of B given A\n",
        "\n",
        "𝑃\n",
        "(\n",
        "𝐴\n",
        ")\n",
        "P(A): Prior probability of A\n",
        "\n",
        "𝑃\n",
        "(\n",
        "𝐵\n",
        ")\n",
        "P(B): Probability of B (normalizing constant)\n",
        "\n",
        "It helps update beliefs with new evidence.\n",
        "\n",
        "#**Q14. Explain the differences between Gaussian Naïve Bayes, Multinomial Naïve Bayes, and Bernoulli Naïve Bayes**\n",
        "Gaussian Naïve Bayes: Assumes features follow a normal distribution. Used for continuous data (e.g., real values).\n",
        "\n",
        "Multinomial Naïve Bayes: Designed for discrete count data (e.g., word frequencies in documents).\n",
        "\n",
        "Bernoulli Naïve Bayes: Used for binary/boolean features (e.g., word presence or absence).\n",
        "\n",
        "Each variant makes specific assumptions about the input data distribution and is chosen based on data type.\n",
        "\n",
        "#**Q15. When should you use Gaussian Naïve Bayes over other variants?**\n",
        "Use Gaussian Naïve Bayes when your features are continuous and normally distributed. It works well for datasets like Iris or Breast Cancer where the attributes are real-valued. It’s not suitable for text data or binary features; for those, Multinomial or Bernoulli is better. If you're unsure about feature distributions, Gaussian can still be a good baseline due to its simplicity and speed.\n",
        "\n",
        "#**Q16. What are the key assumptions made by Naïve Bayes?**\n",
        "Feature Independence: All features are assumed to be conditionally independent given the class label.\n",
        "\n",
        "Feature Relevance: All features contribute equally and independently to the outcome.\n",
        "\n",
        "Distribution Assumption: Each variant assumes a specific distribution (Gaussian, Multinomial, or Bernoulli) for the data.\n",
        "\n",
        "These assumptions are often violated in real-world data, but the algorithm still performs well due to probabilistic robustness.\n",
        "\n",
        "#**Q17. What are the advantages and disadvantages of Naïve Bayes?**\n",
        "Advantages:\n",
        "\n",
        "Simple and fast to train\n",
        "\n",
        "Performs well with high-dimensional and text data\n",
        "\n",
        "Requires less training data\n",
        "\n",
        "Handles both binary and multiclass problems\n",
        "\n",
        "Disadvantages:\n",
        "\n",
        "Assumes feature independence (often unrealistic)\n",
        "\n",
        "Struggles with correlated features\n",
        "\n",
        "Sensitive to zero probabilities (solved with smoothing)\n",
        "\n",
        "Despite its simplicity, it’s surprisingly effective in many practical cases.\n",
        "\n",
        "#**Q18. Why is Naïve Bayes a good choice for text classification?**\n",
        "Text data is often high-dimensional and sparse, which suits Naïve Bayes well. It works efficiently on bag-of-words and TF-IDF features. The independence assumption is reasonable for words in large text corpora. It handles large vocabularies and can be trained quickly even with thousands of features. It also performs well with small amounts of training data and can be easily adapted to spam detection, sentiment analysis, etc.\n",
        "\n",
        "#**Q19. Compare SVM and Naïve Bayes for classification tasks**\n",
        "Aspect\tSVM\tNaïve Bayes\n",
        "Type\tDiscriminative\tGenerative\n",
        "Feature Assumption\tNo assumptions\tAssumes feature independence\n",
        "Performance\tHigh accuracy, robust\tFast, good with high-dimensional data\n",
        "Training Time\tSlower (especially with kernels)\tFast\n",
        "Good for Text\tYes (after tuning)\tExcellent\n",
        "Interpretability\tLess\tHigh\n",
        "\n",
        "Choose based on dataset type, speed requirements, and interpretability.\n",
        "\n",
        "#**Q20. How does Laplace Smoothing help in Naïve Bayes?**\n",
        "Laplace Smoothing (also called add-one smoothing) prevents zero probability issues in Naïve Bayes. When a word or feature hasn’t appeared in the training data for a particular class, the calculated probability becomes zero, which can make the overall class probability zero. Laplace Smoothing adds 1 to all feature counts, ensuring no probability is exactly zero. This improves model robustness, especially for small datasets or sparse data like text.\n",
        "\n"
      ],
      "metadata": {
        "id": "Fbul-pi70Xvw"
      }
    },
    {
      "cell_type": "markdown",
      "source": [
        "# **Q21. Write a Python program to train an SVM Classifier on the Iris dataset and evaluate accuracy**"
      ],
      "metadata": {
        "id": "tC02kFo7j0aJ"
      }
    },
    {
      "cell_type": "code",
      "source": [
        "from sklearn import datasets\n",
        "from sklearn.model_selection import train_test_split\n",
        "from sklearn.svm import SVC\n",
        "from sklearn.metrics import accuracy_score\n",
        "\n",
        "# Load dataset\n",
        "iris = datasets.load_iris()\n",
        "X = iris.data\n",
        "y = iris.target\n",
        "\n",
        "# Train-test split\n",
        "X_train, X_test, y_train, y_test = train_test_split(X, y, test_size=0.3, random_state=42)\n",
        "\n",
        "# Train SVM classifier\n",
        "model = SVC(kernel='linear')\n",
        "model.fit(X_train, y_train)\n",
        "\n",
        "# Predict and evaluate\n",
        "y_pred = model.predict(X_test)\n",
        "print(\"Accuracy:\", accuracy_score(y_test, y_pred))\n"
      ],
      "metadata": {
        "colab": {
          "base_uri": "https://localhost:8080/"
        },
        "id": "EU3WvY6fj5Hv",
        "outputId": "5c12d24b-7446-420c-a23a-684e3b5e1106"
      },
      "execution_count": null,
      "outputs": [
        {
          "output_type": "stream",
          "name": "stdout",
          "text": [
            "Accuracy: 1.0\n"
          ]
        }
      ]
    },
    {
      "cell_type": "markdown",
      "source": [
        "# **Q22. Write a Python program to train two SVM classifiers with Linear and RBF kernels on the Wine dataset, then compare their accuracies**"
      ],
      "metadata": {
        "id": "gB84EHhLkEpi"
      }
    },
    {
      "cell_type": "code",
      "source": [
        "from sklearn.datasets import load_wine\n",
        "from sklearn.model_selection import train_test_split\n",
        "from sklearn.svm import SVC\n",
        "from sklearn.metrics import accuracy_score\n",
        "\n",
        "# Load Wine dataset\n",
        "wine = load_wine()\n",
        "X = wine.data\n",
        "y = wine.target\n",
        "\n",
        "# Split dataset\n",
        "X_train, X_test, y_train, y_test = train_test_split(X, y, test_size=0.3, random_state=42)\n",
        "\n",
        "# Linear SVM\n",
        "linear_svm = SVC(kernel='linear')\n",
        "linear_svm.fit(X_train, y_train)\n",
        "linear_pred = linear_svm.predict(X_test)\n",
        "\n",
        "# RBF SVM\n",
        "rbf_svm = SVC(kernel='rbf')\n",
        "rbf_svm.fit(X_train, y_train)\n",
        "rbf_pred = rbf_svm.predict(X_test)\n",
        "\n",
        "# Compare accuracies\n",
        "print(\"Linear Kernel Accuracy:\", accuracy_score(y_test, linear_pred))\n",
        "print(\"RBF Kernel Accuracy:\", accuracy_score(y_test, rbf_pred))\n"
      ],
      "metadata": {
        "colab": {
          "base_uri": "https://localhost:8080/"
        },
        "id": "ns4B233fkkM9",
        "outputId": "1c0cb526-2f02-43c6-9dce-2ce6aaa8eadb"
      },
      "execution_count": null,
      "outputs": [
        {
          "output_type": "stream",
          "name": "stdout",
          "text": [
            "Linear Kernel Accuracy: 0.9814814814814815\n",
            "RBF Kernel Accuracy: 0.7592592592592593\n"
          ]
        }
      ]
    },
    {
      "cell_type": "markdown",
      "source": [
        "# **Q23. Write a Python program to train an SVM Regressor (SVR) on a housing dataset and evaluate it using Mean Squared Error (MSE)**"
      ],
      "metadata": {
        "id": "LqJDswJmkp_1"
      }
    },
    {
      "cell_type": "code",
      "source": [
        "from sklearn.datasets import fetch_california_housing\n",
        "from sklearn.model_selection import train_test_split\n",
        "from sklearn.svm import SVR\n",
        "from sklearn.metrics import mean_squared_error\n",
        "\n",
        "# Load housing data\n",
        "housing = fetch_california_housing()\n",
        "X = housing.data\n",
        "y = housing.target\n",
        "\n",
        "# Split dataset\n",
        "X_train, X_test, y_train, y_test = train_test_split(X, y, test_size=0.3, random_state=42)\n",
        "\n",
        "# Train SVR model\n",
        "svr = SVR(kernel='rbf')\n",
        "svr.fit(X_train, y_train)\n",
        "\n",
        "# Predict and evaluate\n",
        "y_pred = svr.predict(X_test)\n",
        "print(\"Mean Squared Error:\", mean_squared_error(y_test, y_pred))\n"
      ],
      "metadata": {
        "id": "UjlwYVagk2JN",
        "colab": {
          "base_uri": "https://localhost:8080/"
        },
        "outputId": "23b43145-7c94-4ab0-c214-11cb04fe8f39"
      },
      "execution_count": null,
      "outputs": [
        {
          "output_type": "stream",
          "name": "stdout",
          "text": [
            "Mean Squared Error: 1.3489971413208723\n"
          ]
        }
      ]
    },
    {
      "cell_type": "markdown",
      "source": [
        "# **Q24. Write a Python program to train an SVM Classifier with a Polynomial Kernel and visualize the decision boundary**"
      ],
      "metadata": {
        "id": "IK3SqQV-iJbj"
      }
    },
    {
      "cell_type": "code",
      "source": [
        "import matplotlib.pyplot as plt\n",
        "from sklearn.datasets import make_classification\n",
        "from sklearn.svm import SVC\n",
        "import numpy as np\n",
        "\n",
        "# Generate 2D classification data\n",
        "X, y = make_classification(n_features=2, n_redundant=0, n_informative=2,\n",
        "                           n_clusters_per_class=1, n_samples=100, random_state=42)\n",
        "\n",
        "# Train polynomial kernel SVM\n",
        "model = SVC(kernel='poly', degree=3)\n",
        "model.fit(X, y)\n",
        "\n",
        "# Plot decision boundary\n",
        "def plot_boundary(model, X, y):\n",
        "    x_min, x_max = X[:, 0].min()-1, X[:, 0].max()+1\n",
        "    y_min, y_max = X[:, 1].min()-1, X[:, 1].max()+1\n",
        "    xx, yy = np.meshgrid(np.linspace(x_min, x_max, 300),\n",
        "                         np.linspace(y_min, y_max, 300))\n",
        "    Z = model.predict(np.c_[xx.ravel(), yy.ravel()])\n",
        "    Z = Z.reshape(xx.shape)\n",
        "\n",
        "    plt.contourf(xx, yy, Z, alpha=0.3)\n",
        "    plt.scatter(X[:, 0], X[:, 1], c=y)\n",
        "    plt.title(\"SVM with Polynomial Kernel\")\n",
        "    plt.xlabel(\"Feature 1\")\n",
        "    plt.ylabel(\"Feature 2\")\n",
        "    plt.show()\n",
        "\n",
        "plot_boundary(model, X, y)\n"
      ],
      "metadata": {
        "colab": {
          "base_uri": "https://localhost:8080/",
          "height": 472
        },
        "id": "d--wu1GridCW",
        "outputId": "7d7a25fa-22e2-43c2-c0c8-de3f6cba0c1a"
      },
      "execution_count": null,
      "outputs": [
        {
          "output_type": "display_data",
          "data": {
            "text/plain": [
              "<Figure size 640x480 with 1 Axes>"
            ],
            "image/png": "[encoded data removed]"
          },
          "metadata": {}
        }
      ]
    },
    {
      "cell_type": "markdown",
      "source": [
        "# **Q25 Write a Python program to train a Gaussian Naïve Bayes classifier on the Breast Cancer dataset and evaluate accuracy**"
      ],
      "metadata": {
        "id": "jLWoZ5Ztilmf"
      }
    },
    {
      "cell_type": "code",
      "source": [
        "from sklearn.datasets import load_breast_cancer\n",
        "from sklearn.model_selection import train_test_split\n",
        "from sklearn.naive_bayes import GaussianNB\n",
        "from sklearn.metrics import accuracy_score\n",
        "\n",
        "# Load Breast Cancer dataset\n",
        "data = load_breast_cancer()\n",
        "X = data.data\n",
        "y = data.target\n",
        "\n",
        "# Split dataset\n",
        "X_train, X_test, y_train, y_test = train_test_split(X, y, test_size=0.3, random_state=42)\n",
        "\n",
        "# Train Gaussian Naïve Bayes model\n",
        "gnb = GaussianNB()\n",
        "gnb.fit(X_train, y_train)\n",
        "\n",
        "# Predict and evaluate\n",
        "y_pred = gnb.predict(X_test)\n",
        "print(\"Accuracy:\", accuracy_score(y_test, y_pred))\n"
      ],
      "metadata": {
        "colab": {
          "base_uri": "https://localhost:8080/"
        },
        "id": "IR7k3-UCjp2K",
        "outputId": "4ee100d0-35af-439f-af58-8497ad1461e0"
      },
      "execution_count": null,
      "outputs": [
        {
          "output_type": "stream",
          "name": "stdout",
          "text": [
            "Accuracy: 0.9415204678362573\n"
          ]
        }
      ]
    },
    {
      "cell_type": "markdown",
      "source": [
        "# **Q26. Write a Python program to train a Multinomial Naïve Bayes classifier for text classification using the 20 Newsgroups dataset**"
      ],
      "metadata": {
        "id": "y6Lv1-Igj084"
      }
    },
    {
      "cell_type": "code",
      "source": [
        "from sklearn.datasets import fetch_20newsgroups\n",
        "from sklearn.feature_extraction.text import CountVectorizer\n",
        "from sklearn.naive_bayes import MultinomialNB\n",
        "from sklearn.model_selection import train_test_split\n",
        "from sklearn.metrics import accuracy_score\n",
        "\n",
        "# Load text data\n",
        "newsgroups = fetch_20newsgroups(subset='all')\n",
        "X_train_text, X_test_text, y_train, y_test = train_test_split(\n",
        "    newsgroups.data, newsgroups.target, test_size=0.3, random_state=42)\n",
        "\n",
        "# Convert text to vectors\n",
        "vectorizer = CountVectorizer()\n",
        "X_train = vectorizer.fit_transform(X_train_text)\n",
        "X_test = vectorizer.transform(X_test_text)\n",
        "\n",
        "# Train Multinomial Naïve Bayes model\n",
        "mnb = MultinomialNB()\n",
        "mnb.fit(X_train, y_train)\n",
        "\n",
        "# Predict and evaluate\n",
        "y_pred = mnb.predict(X_test)\n",
        "print(\"Accuracy:\", accuracy_score(y_test, y_pred))\n"
      ],
      "metadata": {
        "colab": {
          "base_uri": "https://localhost:8080/"
        },
        "id": "46QdJVXZj9O4",
        "outputId": "56e40880-e200-468a-f64f-af6c997a4dd8"
      },
      "execution_count": null,
      "outputs": [
        {
          "output_type": "stream",
          "name": "stdout",
          "text": [
            "Accuracy: 0.8487796250442164\n"
          ]
        }
      ]
    },
    {
      "cell_type": "markdown",
      "source": [
        "# **Q27. Write a Python program to train an SVM Classifier with different C values and compare the decision boundaries visually**"
      ],
      "metadata": {
        "id": "0_e30GWhkEQb"
      }
    },
    {
      "cell_type": "code",
      "source": [
        "import numpy as np\n",
        "import matplotlib.pyplot as plt\n",
        "from sklearn.datasets import make_classification\n",
        "from sklearn.svm import SVC\n",
        "\n",
        "# Generate 2D data\n",
        "X, y = make_classification(n_samples=100, n_features=2, n_redundant=0,\n",
        "                           n_informative=2, n_clusters_per_class=1, random_state=42)\n",
        "\n",
        "# Plotting function\n",
        "def plot_svm(C_value):\n",
        "    model = SVC(kernel='linear', C=C_value)\n",
        "    model.fit(X, y)\n",
        "\n",
        "    x_min, x_max = X[:, 0].min()-1, X[:, 0].max()+1\n",
        "    y_min, y_max = X[:, 1].min()-1, X[:, 1].max()+1\n",
        "    xx, yy = np.meshgrid(np.linspace(x_min, x_max, 300),\n",
        "                         np.linspace(y_min, y_max, 300))\n",
        "    Z = model.predict(np.c_[xx.ravel(), yy.ravel()])\n",
        "    Z = Z.reshape(xx.shape)\n",
        "\n",
        "    plt.contourf(xx, yy, Z, alpha=0.2)\n",
        "    plt.scatter(X[:, 0], X[:, 1], c=y)\n",
        "    plt.title(f\"SVM Decision Boundary (C={C_value})\")\n",
        "    plt.show()\n",
        "\n",
        "# Try different C values\n",
        "for c in [0.1, 1, 10]:\n",
        "    plot_svm(c)\n"
      ],
      "metadata": {
        "colab": {
          "base_uri": "https://localhost:8080/",
          "height": 1000
        },
        "id": "4STBRmnckiCx",
        "outputId": "e8bc7d9c-1578-49a9-fb85-1845418e441e"
      },
      "execution_count": null,
      "outputs": [
        {
          "output_type": "display_data",
          "data": {
            "text/plain": [
              "<Figure size 640x480 with 1 Axes>"
            ],
            "image/png": "[encoded data removed]"
          },
          "metadata": {}
        },
        {
          "output_type": "display_data",
          "data": {
            "text/plain": [
              "<Figure size 640x480 with 1 Axes>"
            ],
            "image/png": "[encoded data removed]"
          },
          "metadata": {}
        },
        {
          "output_type": "display_data",
          "data": {
            "text/plain": [
              "<Figure size 640x480 with 1 Axes>"
            ],
            "image/png": "[encoded data removed]"
          },
          "metadata": {}
        }
      ]
    },
    {
      "cell_type": "markdown",
      "source": [
        "# **Q28. Write a Python program to train a Bernoulli Naïve Bayes classifier for binary classification on a dataset with binary features**"
      ],
      "metadata": {
        "id": "fxSfGSUOk_2K"
      }
    },
    {
      "cell_type": "code",
      "source": [
        "from sklearn.datasets import make_classification\n",
        "from sklearn.preprocessing import Binarizer\n",
        "from sklearn.naive_bayes import BernoulliNB\n",
        "from sklearn.model_selection import train_test_split\n",
        "from sklearn.metrics import accuracy_score\n",
        "\n",
        "# Generate binary dataset\n",
        "X, y = make_classification(n_samples=200, n_features=10, n_informative=5, random_state=42)\n",
        "X = Binarizer().fit_transform(X)  # Convert to binary features\n",
        "\n",
        "# Split dataset\n",
        "X_train, X_test, y_train, y_test = train_test_split(X, y, test_size=0.3, random_state=42)\n",
        "\n",
        "# Train BernoulliNB\n",
        "bnb = BernoulliNB()\n",
        "bnb.fit(X_train, y_train)\n",
        "\n",
        "# Predict and evaluate\n",
        "y_pred = bnb.predict(X_test)\n",
        "print(\"Accuracy:\", accuracy_score(y_test, y_pred))\n"
      ],
      "metadata": {
        "colab": {
          "base_uri": "https://localhost:8080/"
        },
        "id": "SAyYSth0lKP6",
        "outputId": "414e23e4-aa8e-46f7-eb11-4e726e1a1065"
      },
      "execution_count": null,
      "outputs": [
        {
          "output_type": "stream",
          "name": "stdout",
          "text": [
            "Accuracy: 0.75\n"
          ]
        }
      ]
    },
    {
      "cell_type": "markdown",
      "source": [
        "# **Q28. Write a Python program to train a Bernoulli Naïve Bayes classifier for binary classification on a dataset with binary features**"
      ],
      "metadata": {
        "id": "ER0uW9RbljCb"
      }
    },
    {
      "cell_type": "code",
      "source": [
        "from sklearn.datasets import make_classification\n",
        "from sklearn.preprocessing import Binarizer\n",
        "from sklearn.naive_bayes import BernoulliNB\n",
        "from sklearn.model_selection import train_test_split\n",
        "from sklearn.metrics import accuracy_score\n",
        "\n",
        "# Generate binary dataset\n",
        "X, y = make_classification(n_samples=200, n_features=10, n_informative=5, random_state=42)\n",
        "X = Binarizer().fit_transform(X)  # Convert to binary features\n",
        "\n",
        "# Split dataset\n",
        "X_train, X_test, y_train, y_test = train_test_split(X, y, test_size=0.3, random_state=42)\n",
        "\n",
        "# Train BernoulliNB\n",
        "bnb = BernoulliNB()\n",
        "bnb.fit(X_train, y_train)\n",
        "\n",
        "# Predict and evaluate\n",
        "y_pred = bnb.predict(X_test)\n",
        "print(\"Accuracy:\", accuracy_score(y_test, y_pred))\n"
      ],
      "metadata": {
        "colab": {
          "base_uri": "https://localhost:8080/"
        },
        "id": "wi-tZgWilqs2",
        "outputId": "c5ad91fb-c49a-4169-d562-ad7b6925122e"
      },
      "execution_count": null,
      "outputs": [
        {
          "output_type": "stream",
          "name": "stdout",
          "text": [
            "Accuracy: 0.75\n"
          ]
        }
      ]
    },
    {
      "cell_type": "markdown",
      "source": [
        "# **Q29. Write a Python program to apply feature scaling before training an SVM model and compare results with unscaled data**"
      ],
      "metadata": {
        "id": "AHR2_Pugl1G9"
      }
    },
    {
      "cell_type": "code",
      "source": [
        "from sklearn.datasets import load_wine\n",
        "from sklearn.model_selection import train_test_split\n",
        "from sklearn.svm import SVC\n",
        "from sklearn.preprocessing import StandardScaler\n",
        "from sklearn.metrics import accuracy_score\n",
        "\n",
        "# Load dataset\n",
        "data = load_wine()\n",
        "X = data.data\n",
        "y = data.target\n",
        "\n",
        "# Train-test split\n",
        "X_train, X_test, y_train, y_test = train_test_split(X, y, test_size=0.3, random_state=42)\n",
        "\n",
        "# Without scaling\n",
        "model_unscaled = SVC()\n",
        "model_unscaled.fit(X_train, y_train)\n",
        "pred_unscaled = model_unscaled.predict(X_test)\n",
        "print(\"Accuracy without scaling:\", accuracy_score(y_test, pred_unscaled))\n",
        "\n",
        "# With scaling\n",
        "scaler = StandardScaler()\n",
        "X_train_scaled = scaler.fit_transform(X_train)\n",
        "X_test_scaled = scaler.transform(X_test)\n",
        "\n",
        "model_scaled = SVC()\n",
        "model_scaled.fit(X_train_scaled, y_train)\n",
        "pred_scaled = model_scaled.predict(X_test_scaled)\n",
        "print(\"Accuracy with scaling:\", accuracy_score(y_test, pred_scaled))\n"
      ],
      "metadata": {
        "colab": {
          "base_uri": "https://localhost:8080/"
        },
        "id": "PgWZHrUtl_gH",
        "outputId": "bedc1038-0ec5-4205-ee90-17b7013b1830"
      },
      "execution_count": null,
      "outputs": [
        {
          "output_type": "stream",
          "name": "stdout",
          "text": [
            "Accuracy without scaling: 0.7592592592592593\n",
            "Accuracy with scaling: 0.9814814814814815\n"
          ]
        }
      ]
    },
    {
      "cell_type": "markdown",
      "source": [
        "# **Q30. Write a Python program to train a Gaussian Naïve Bayes model and compare the predictions before and after Laplace Smoothing**"
      ],
      "metadata": {
        "id": "wsrfzrZ3mGcr"
      }
    },
    {
      "cell_type": "code",
      "source": [
        "from sklearn.datasets import load_iris\n",
        "from sklearn.model_selection import train_test_split\n",
        "from sklearn.naive_bayes import GaussianNB\n",
        "from sklearn.metrics import accuracy_score\n",
        "\n",
        "# Load dataset\n",
        "data = load_iris()\n",
        "X = data.data\n",
        "y = data.target\n",
        "\n",
        "# Split\n",
        "X_train, X_test, y_train, y_test = train_test_split(X, y, test_size=0.3, random_state=42)\n",
        "\n",
        "# Without smoothing\n",
        "gnb = GaussianNB()\n",
        "gnb.fit(X_train, y_train)\n",
        "pred1 = gnb.predict(X_test)\n",
        "\n",
        "# Simulate \"smoothing\" by modifying priors\n",
        "gnb_smooth = GaussianNB(priors=[0.34, 0.33, 0.33])\n",
        "gnb_smooth.fit(X_train, y_train)\n",
        "pred2 = gnb_smooth.predict(X_test)\n",
        "\n",
        "# Compare results\n",
        "print(\"Accuracy without smoothing:\", accuracy_score(y_test, pred1))\n",
        "print(\"Accuracy with pseudo-smoothed priors:\", accuracy_score(y_test, pred2))\n"
      ],
      "metadata": {
        "colab": {
          "base_uri": "https://localhost:8080/"
        },
        "id": "lD_IxZ-qmS7w",
        "outputId": "598a2858-f796-40f1-99dc-d6a1015f2225"
      },
      "execution_count": null,
      "outputs": [
        {
          "output_type": "stream",
          "name": "stdout",
          "text": [
            "Accuracy without smoothing: 0.9777777777777777\n",
            "Accuracy with pseudo-smoothed priors: 0.9777777777777777\n"
          ]
        }
      ]
    },
    {
      "cell_type": "markdown",
      "source": [
        "# **Q30. Write a Python program to train a Gaussian Naïve Bayes model and compare the predictions before and after Laplace Smoothing**"
      ],
      "metadata": {
        "id": "bGH91aKKmaHy"
      }
    },
    {
      "cell_type": "code",
      "source": [
        "from sklearn.datasets import load_iris\n",
        "from sklearn.model_selection import train_test_split\n",
        "from sklearn.naive_bayes import GaussianNB\n",
        "from sklearn.metrics import accuracy_score\n",
        "\n",
        "# Load dataset\n",
        "data = load_iris()\n",
        "X = data.data\n",
        "y = data.target\n",
        "\n",
        "# Split\n",
        "X_train, X_test, y_train, y_test = train_test_split(X, y, test_size=0.3, random_state=42)\n",
        "\n",
        "# Without smoothing\n",
        "gnb = GaussianNB()\n",
        "gnb.fit(X_train, y_train)\n",
        "pred1 = gnb.predict(X_test)\n",
        "\n",
        "# Simulate \"smoothing\" by modifying priors\n",
        "gnb_smooth = GaussianNB(priors=[0.34, 0.33, 0.33])\n",
        "gnb_smooth.fit(X_train, y_train)\n",
        "pred2 = gnb_smooth.predict(X_test)\n",
        "\n",
        "# Compare results\n",
        "print(\"Accuracy without smoothing:\", accuracy_score(y_test, pred1))\n",
        "print(\"Accuracy with pseudo-smoothed priors:\", accuracy_score(y_test, pred2))\n"
      ],
      "metadata": {
        "colab": {
          "base_uri": "https://localhost:8080/"
        },
        "id": "teEaDOTqnaF-",
        "outputId": "5262899b-0fda-4fc5-de9a-5cda1c640784"
      },
      "execution_count": null,
      "outputs": [
        {
          "output_type": "stream",
          "name": "stdout",
          "text": [
            "Accuracy without smoothing: 0.9777777777777777\n",
            "Accuracy with pseudo-smoothed priors: 0.9777777777777777\n"
          ]
        }
      ]
    },
    {
      "cell_type": "markdown",
      "source": [
        "# **Q31. Write a Python program to train an SVM Classifier and use GridSearchCV to tune the hyperparameters (C, gamma, kernel)**"
      ],
      "metadata": {
        "id": "X48XjM_jnhET"
      }
    },
    {
      "cell_type": "code",
      "source": [
        "from sklearn.datasets import load_wine\n",
        "from sklearn.model_selection import train_test_split, GridSearchCV\n",
        "from sklearn.svm import SVC\n",
        "from sklearn.metrics import accuracy_score\n",
        "\n",
        "# Load dataset\n",
        "data = load_wine()\n",
        "X = data.data\n",
        "y = data.target\n",
        "\n",
        "# Split dataset\n",
        "X_train, X_test, y_train, y_test = train_test_split(X, y, test_size=0.3, random_state=42)\n",
        "\n",
        "# Define parameter grid\n",
        "param_grid = {\n",
        "    'C': [0.1, 1, 10],\n",
        "    'gamma': ['scale', 'auto'],\n",
        "    'kernel': ['linear', 'rbf', 'poly']\n",
        "}\n",
        "\n",
        "# GridSearchCV\n",
        "grid = GridSearchCV(SVC(), param_grid, cv=5)\n",
        "grid.fit(X_train, y_train)\n",
        "\n",
        "# Predict and evaluate\n",
        "y_pred = grid.predict(X_test)\n",
        "print(\"Best Parameters:\", grid.best_params_)\n",
        "print(\"Accuracy:\", accuracy_score(y_test, y_pred))\n"
      ],
      "metadata": {
        "colab": {
          "base_uri": "https://localhost:8080/"
        },
        "id": "cE9JDitenxMn",
        "outputId": "3d4a425a-9eac-4b87-97a8-be2491a654df"
      },
      "execution_count": null,
      "outputs": [
        {
          "output_type": "stream",
          "name": "stdout",
          "text": [
            "Best Parameters: {'C': 0.1, 'gamma': 'scale', 'kernel': 'linear'}\n",
            "Accuracy: 1.0\n"
          ]
        }
      ]
    },
    {
      "cell_type": "markdown",
      "source": [
        "# **Q32.Write a Python program to train an SVM Classifier on an imbalanced dataset and apply class weighting and check if it improves accuracy**"
      ],
      "metadata": {
        "id": "FaC-z9ynnhBR"
      }
    },
    {
      "cell_type": "code",
      "source": [
        "from sklearn.datasets import make_classification\n",
        "from sklearn.model_selection import train_test_split\n",
        "from sklearn.svm import SVC\n",
        "from sklearn.metrics import accuracy_score\n",
        "\n",
        "# Generate imbalanced dataset\n",
        "X, y = make_classification(n_samples=1000, n_classes=2, weights=[0.9, 0.1],\n",
        "                           n_informative=3, n_redundant=0, random_state=42)\n",
        "\n",
        "# Split data\n",
        "X_train, X_test, y_train, y_test = train_test_split(X, y, test_size=0.3, random_state=42)\n",
        "\n",
        "# SVM without class_weight\n",
        "model_default = SVC()\n",
        "model_default.fit(X_train, y_train)\n",
        "pred_default = model_default.predict(X_test)\n",
        "\n",
        "# SVM with balanced class_weight\n",
        "model_weighted = SVC(class_weight='balanced')\n",
        "model_weighted.fit(X_train, y_train)\n",
        "pred_weighted = model_weighted.predict(X_test)\n",
        "\n",
        "print(\"Accuracy without class_weight:\", accuracy_score(y_test, pred_default))\n",
        "print(\"Accuracy with class_weight='balanced':\", accuracy_score(y_test, pred_weighted))\n"
      ],
      "metadata": {
        "colab": {
          "base_uri": "https://localhost:8080/"
        },
        "id": "54fssH_doE3c",
        "outputId": "9f50b160-4ad7-4d26-c999-f500aae3363d"
      },
      "execution_count": null,
      "outputs": [
        {
          "output_type": "stream",
          "name": "stdout",
          "text": [
            "Accuracy without class_weight: 0.9433333333333334\n",
            "Accuracy with class_weight='balanced': 0.96\n"
          ]
        }
      ]
    },
    {
      "cell_type": "markdown",
      "source": [
        "# **Q33. Write a Python program to implement a Naïve Bayes classifier for spam detection using email data**"
      ],
      "metadata": {
        "id": "32CduJlloP1u"
      }
    },
    {
      "cell_type": "code",
      "source": [
        "from sklearn.model_selection import train_test_split\n",
        "from sklearn.feature_extraction.text import CountVectorizer\n",
        "from sklearn.naive_bayes import MultinomialNB\n",
        "from sklearn.metrics import accuracy_score\n",
        "\n",
        "# Sample email data\n",
        "emails = [\n",
        "    \"Congratulations! You have won a free ticket\",\n",
        "    \"Win money instantly\",\n",
        "    \"Call now to claim your prize\",\n",
        "    \"Hello, how are you doing?\",\n",
        "    \"Let's meet for lunch\",\n",
        "    \"Your invoice is attached\",\n",
        "    \"Buy one get one free offer\"\n",
        "]\n",
        "labels = [1, 1, 1, 0, 0, 0, 1]  # 1 = spam, 0 = not spam\n",
        "\n",
        "# Vectorize text\n",
        "vectorizer = CountVectorizer()\n",
        "X = vectorizer.fit_transform(emails)\n",
        "\n",
        "# Train-test split\n",
        "X_train, X_test, y_train, y_test = train_test_split(X, labels, test_size=0.3, random_state=42)\n",
        "\n",
        "# Train Naïve Bayes model\n",
        "nb = MultinomialNB()\n",
        "nb.fit(X_train, y_train)\n",
        "y_pred = nb.predict(X_test)\n",
        "\n",
        "print(\"Accuracy:\", accuracy_score(y_test, y_pred))\n"
      ],
      "metadata": {
        "colab": {
          "base_uri": "https://localhost:8080/"
        },
        "id": "R_UmkXsToYQO",
        "outputId": "2beadd77-02b3-4496-f77d-1dfd9536144d"
      },
      "execution_count": null,
      "outputs": [
        {
          "output_type": "stream",
          "name": "stdout",
          "text": [
            "Accuracy: 0.0\n"
          ]
        }
      ]
    },
    {
      "cell_type": "markdown",
      "source": [
        "# **Q34. Write a Python program to train an SVM Classifier and a Naïve Bayes Classifier on the same dataset and compare their accuracy**"
      ],
      "metadata": {
        "id": "-eBQzor9odZ5"
      }
    },
    {
      "cell_type": "code",
      "source": [
        "from sklearn.datasets import load_iris\n",
        "from sklearn.model_selection import train_test_split\n",
        "from sklearn.svm import SVC\n",
        "from sklearn.naive_bayes import GaussianNB\n",
        "from sklearn.metrics import accuracy_score\n",
        "\n",
        "# Load dataset\n",
        "data = load_iris()\n",
        "X = data.data\n",
        "y = data.target\n",
        "\n",
        "# Train-test split\n",
        "X_train, X_test, y_train, y_test = train_test_split(X, y, test_size=0.3, random_state=42)\n",
        "\n",
        "# Train SVM\n",
        "svm = SVC()\n",
        "svm.fit(X_train, y_train)\n",
        "svm_pred = svm.predict(X_test)\n",
        "\n",
        "# Train Naïve Bayes\n",
        "nb = GaussianNB()\n",
        "nb.fit(X_train, y_train)\n",
        "nb_pred = nb.predict(X_test)\n",
        "\n",
        "# Compare results\n",
        "print(\"SVM Accuracy:\", accuracy_score(y_test, svm_pred))\n",
        "print(\"Naïve Bayes Accuracy:\", accuracy_score(y_test, nb_pred))\n"
      ],
      "metadata": {
        "colab": {
          "base_uri": "https://localhost:8080/"
        },
        "id": "D_PEtKCoontB",
        "outputId": "18577a88-beb9-4a8d-d5c6-92641cdbd64c"
      },
      "execution_count": null,
      "outputs": [
        {
          "output_type": "stream",
          "name": "stdout",
          "text": [
            "SVM Accuracy: 1.0\n",
            "Naïve Bayes Accuracy: 0.9777777777777777\n"
          ]
        }
      ]
    },
    {
      "cell_type": "markdown",
      "source": [
        "# **Q35. Write a Python program to perform feature selection before training a Naïve Bayes classifier and compare results**"
      ],
      "metadata": {
        "id": "htxB5N6zos9X"
      }
    },
    {
      "cell_type": "code",
      "source": [
        "from sklearn.datasets import load_breast_cancer\n",
        "from sklearn.feature_selection import SelectKBest, chi2\n",
        "from sklearn.model_selection import train_test_split\n",
        "from sklearn.naive_bayes import GaussianNB\n",
        "from sklearn.metrics import accuracy_score\n",
        "\n",
        "# Load data\n",
        "data = load_breast_cancer()\n",
        "X = data.data\n",
        "y = data.target\n",
        "\n",
        "# Split data\n",
        "X_train, X_test, y_train, y_test = train_test_split(X, y, test_size=0.3, random_state=42)\n",
        "\n",
        "# Naïve Bayes without feature selection\n",
        "nb_full = GaussianNB()\n",
        "nb_full.fit(X_train, y_train)\n",
        "pred_full = nb_full.predict(X_test)\n",
        "\n",
        "# Feature selection\n",
        "selector = SelectKBest(score_func=chi2, k=10)\n",
        "X_train_sel = selector.fit_transform(X_train, y_train)\n",
        "X_test_sel = selector.transform(X_test)\n",
        "\n",
        "# Naïve Bayes with selected features\n",
        "nb_sel = GaussianNB()\n",
        "nb_sel.fit(X_train_sel, y_train)\n",
        "pred_sel = nb_sel.predict(X_test_sel)\n",
        "\n",
        "# Compare accuracies\n",
        "print(\"Accuracy without feature selection:\", accuracy_score(y_test, pred_full))\n",
        "print(\"Accuracy with feature selection:\", accuracy_score(y_test, pred_sel))\n"
      ],
      "metadata": {
        "colab": {
          "base_uri": "https://localhost:8080/"
        },
        "id": "JbqBnDyeo1qt",
        "outputId": "9859e135-2c5b-4ec8-e8c6-abb76a561023"
      },
      "execution_count": null,
      "outputs": [
        {
          "output_type": "stream",
          "name": "stdout",
          "text": [
            "Accuracy without feature selection: 0.9415204678362573\n",
            "Accuracy with feature selection: 0.9532163742690059\n"
          ]
        }
      ]
    },
    {
      "cell_type": "markdown",
      "source": [
        "# **Q36. Write a Python program to train an SVM Classifier using One-vs-Rest (OvR) and One-vs-One (OvO) strategies on the Wine dataset and compare their accuracy**"
      ],
      "metadata": {
        "id": "qRHh013do9Kf"
      }
    },
    {
      "cell_type": "code",
      "source": [
        "from sklearn.datasets import load_wine\n",
        "from sklearn.model_selection import train_test_split\n",
        "from sklearn.multiclass import OneVsRestClassifier, OneVsOneClassifier\n",
        "from sklearn.svm import SVC\n",
        "from sklearn.metrics import accuracy_score\n",
        "\n",
        "# Load dataset\n",
        "data = load_wine()\n",
        "X = data.data\n",
        "y = data.target\n",
        "\n",
        "# Split dataset\n",
        "X_train, X_test, y_train, y_test = train_test_split(X, y, test_size=0.3, random_state=42)\n",
        "\n",
        "# One-vs-Rest\n",
        "ovr_model = OneVsRestClassifier(SVC())\n",
        "ovr_model.fit(X_train, y_train)\n",
        "ovr_pred = ovr_model.predict(X_test)\n",
        "\n",
        "# One-vs-One\n",
        "ovo_model = OneVsOneClassifier(SVC())\n",
        "ovo_model.fit(X_train, y_train)\n",
        "ovo_pred = ovo_model.predict(X_test)\n",
        "\n",
        "# Compare accuracy\n",
        "print(\"One-vs-Rest Accuracy:\", accuracy_score(y_test, ovr_pred))\n",
        "print(\"One-vs-One Accuracy:\", accuracy_score(y_test, ovo_pred))\n"
      ],
      "metadata": {
        "colab": {
          "base_uri": "https://localhost:8080/"
        },
        "id": "GtkhnHlZpNgx",
        "outputId": "78d691f3-565e-4a61-fd21-00827bbac35e"
      },
      "execution_count": null,
      "outputs": [
        {
          "output_type": "stream",
          "name": "stdout",
          "text": [
            "One-vs-Rest Accuracy: 0.7222222222222222\n",
            "One-vs-One Accuracy: 0.7962962962962963\n"
          ]
        }
      ]
    },
    {
      "cell_type": "markdown",
      "source": [
        "# **Q37. Write a Python program to train an SVM Classifier using Linear, Polynomial, and RBF kernels on the Breast Cancer dataset and compare their accuracy**"
      ],
      "metadata": {
        "id": "P71FmR5epS4t"
      }
    },
    {
      "cell_type": "code",
      "source": [
        "from sklearn.datasets import load_breast_cancer\n",
        "from sklearn.model_selection import train_test_split\n",
        "from sklearn.svm import SVC\n",
        "from sklearn.metrics import accuracy_score\n",
        "\n",
        "# Load dataset\n",
        "data = load_breast_cancer()\n",
        "X = data.data\n",
        "y = data.target\n",
        "\n",
        "# Split data\n",
        "X_train, X_test, y_train, y_test = train_test_split(X, y, test_size=0.3, random_state=42)\n",
        "\n",
        "# Kernels to compare\n",
        "kernels = ['linear', 'poly', 'rbf']\n",
        "\n",
        "# Evaluate each kernel\n",
        "for kernel in kernels:\n",
        "    model = SVC(kernel=kernel)\n",
        "    model.fit(X_train, y_train)\n",
        "    y_pred = model.predict(X_test)\n",
        "    print(f\"Accuracy with {kernel} kernel:\", accuracy_score(y_test, y_pred))\n"
      ],
      "metadata": {
        "colab": {
          "base_uri": "https://localhost:8080/"
        },
        "id": "Sxs9iELYpkFO",
        "outputId": "5af6d9b7-6c46-429f-f1a2-fa2b2e8a292c"
      },
      "execution_count": null,
      "outputs": [
        {
          "output_type": "stream",
          "name": "stdout",
          "text": [
            "Accuracy with linear kernel: 0.9649122807017544\n",
            "Accuracy with poly kernel: 0.9415204678362573\n",
            "Accuracy with rbf kernel: 0.935672514619883\n"
          ]
        }
      ]
    },
    {
      "cell_type": "markdown",
      "source": [
        "# **Q38. Write a Python program to train an SVM Classifier using Stratified K-Fold Cross-Validation and compute the average accuracy**"
      ],
      "metadata": {
        "id": "OpMoNlA0pqtm"
      }
    },
    {
      "cell_type": "code",
      "source": [
        "from sklearn.datasets import load_iris\n",
        "from sklearn.model_selection import StratifiedKFold, cross_val_score\n",
        "from sklearn.svm import SVC\n",
        "\n",
        "# Load data\n",
        "data = load_iris()\n",
        "X = data.data\n",
        "y = data.target\n",
        "\n",
        "# Stratified K-Fold CV\n",
        "skf = StratifiedKFold(n_splits=5, shuffle=True, random_state=42)\n",
        "model = SVC(kernel='rbf')\n",
        "\n",
        "# Cross-validation\n",
        "scores = cross_val_score(model, X, y, cv=skf)\n",
        "print(\"Cross-Validation Scores:\", scores)\n",
        "print(\"Average Accuracy:\", scores.mean())\n"
      ],
      "metadata": {
        "colab": {
          "base_uri": "https://localhost:8080/"
        },
        "id": "LQGKSq8gIf25",
        "outputId": "52b90deb-184d-4b13-cca2-7ca0eaa73118"
      },
      "execution_count": null,
      "outputs": [
        {
          "output_type": "stream",
          "name": "stdout",
          "text": [
            "Cross-Validation Scores: [1.         0.96666667 0.93333333 1.         0.93333333]\n",
            "Average Accuracy: 0.9666666666666668\n"
          ]
        }
      ]
    },
    {
      "cell_type": "markdown",
      "source": [
        "# **Q39. Write a Python program to train a Naïve Bayes classifier using different prior probabilities and compare performance**"
      ],
      "metadata": {
        "id": "ME2SjWSIIsXq"
      }
    },
    {
      "cell_type": "code",
      "source": [
        "from sklearn.datasets import load_iris\n",
        "from sklearn.model_selection import train_test_split\n",
        "from sklearn.naive_bayes import GaussianNB\n",
        "from sklearn.metrics import accuracy_score\n",
        "\n",
        "# Load dataset\n",
        "data = load_iris()\n",
        "X = data.data\n",
        "y = data.target\n",
        "\n",
        "# Split dataset\n",
        "X_train, X_test, y_train, y_test = train_test_split(X, y, test_size=0.3, random_state=42)\n",
        "\n",
        "# Different priors\n",
        "default_model = GaussianNB()\n",
        "custom_model = GaussianNB(priors=[0.2, 0.3, 0.5])  # Example priors\n",
        "\n",
        "# Train and predict\n",
        "default_model.fit(X_train, y_train)\n",
        "custom_model.fit(X_train, y_train)\n",
        "\n",
        "pred_default = default_model.predict(X_test)\n",
        "pred_custom = custom_model.predict(X_test)\n",
        "\n",
        "# Accuracy comparison\n",
        "print(\"Default Prior Accuracy:\", accuracy_score(y_test, pred_default))\n",
        "print(\"Custom Prior Accuracy:\", accuracy_score(y_test, pred_custom))\n"
      ],
      "metadata": {
        "colab": {
          "base_uri": "https://localhost:8080/"
        },
        "id": "zpYzvnMBIz0H",
        "outputId": "af7dd239-41e4-410b-d7d1-e4f573f91bbc"
      },
      "execution_count": null,
      "outputs": [
        {
          "output_type": "stream",
          "name": "stdout",
          "text": [
            "Default Prior Accuracy: 0.9777777777777777\n",
            "Custom Prior Accuracy: 0.9555555555555556\n"
          ]
        }
      ]
    },
    {
      "cell_type": "markdown",
      "source": [
        "# **Q40. Write a Python program to perform Recursive Feature Elimination (RFE) before training an SVM Classifier and compare accuracy**"
      ],
      "metadata": {
        "id": "F-eX606tI43z"
      }
    },
    {
      "cell_type": "code",
      "source": [
        "from sklearn.datasets import load_wine\n",
        "from sklearn.model_selection import train_test_split\n",
        "from sklearn.svm import SVC\n",
        "from sklearn.feature_selection import RFE\n",
        "from sklearn.metrics import accuracy_score\n",
        "\n",
        "# Load data\n",
        "data = load_wine()\n",
        "X = data.data\n",
        "y = data.target\n",
        "\n",
        "# Split data\n",
        "X_train, X_test, y_train, y_test = train_test_split(X, y, test_size=0.3, random_state=42)\n",
        "\n",
        "# Without RFE\n",
        "model = SVC(kernel='linear')\n",
        "model.fit(X_train, y_train)\n",
        "pred_full = model.predict(X_test)\n",
        "\n",
        "# With RFE\n",
        "rfe = RFE(model, n_features_to_select=5)\n",
        "rfe.fit(X_train, y_train)\n",
        "X_train_rfe = rfe.transform(X_train)\n",
        "X_test_rfe = rfe.transform(X_test)\n",
        "\n",
        "model_rfe = SVC(kernel='linear')\n",
        "model_rfe.fit(X_train_rfe, y_train)\n",
        "pred_rfe = model_rfe.predict(X_test_rfe)\n",
        "\n",
        "print(\"Accuracy without RFE:\", accuracy_score(y_test, pred_full))\n",
        "print(\"Accuracy with RFE:\", accuracy_score(y_test, pred_rfe))\n"
      ],
      "metadata": {
        "colab": {
          "base_uri": "https://localhost:8080/"
        },
        "id": "beJWEOGrJAey",
        "outputId": "33683a50-0dfb-4c10-c7b6-d7bb5e7e7099"
      },
      "execution_count": null,
      "outputs": [
        {
          "output_type": "stream",
          "name": "stdout",
          "text": [
            "Accuracy without RFE: 0.9814814814814815\n",
            "Accuracy with RFE: 0.9629629629629629\n"
          ]
        }
      ]
    },
    {
      "cell_type": "markdown",
      "source": [
        "# **Q41. Write a Python program to train an SVM Classifier and evaluate its performance using Precision, Recall, and F1-Score instead of accuracy**"
      ],
      "metadata": {
        "id": "bMph96IbJGFD"
      }
    },
    {
      "cell_type": "code",
      "source": [
        "from sklearn.datasets import load_breast_cancer\n",
        "from sklearn.model_selection import train_test_split\n",
        "from sklearn.svm import SVC\n",
        "from sklearn.metrics import precision_score, recall_score, f1_score\n",
        "\n",
        "# Load dataset\n",
        "data = load_breast_cancer()\n",
        "X = data.data\n",
        "y = data.target\n",
        "\n",
        "# Split dataset\n",
        "X_train, X_test, y_train, y_test = train_test_split(X, y, test_size=0.3, random_state=42)\n",
        "\n",
        "# Train SVM\n",
        "model = SVC()\n",
        "model.fit(X_train, y_train)\n",
        "y_pred = model.predict(X_test)\n",
        "\n",
        "# Evaluate\n",
        "print(\"Precision:\", precision_score(y_test, y_pred))\n",
        "print(\"Recall:\", recall_score(y_test, y_pred))\n",
        "print(\"F1-Score:\", f1_score(y_test, y_pred))\n"
      ],
      "metadata": {
        "colab": {
          "base_uri": "https://localhost:8080/"
        },
        "id": "C2TqOVuwJOBO",
        "outputId": "305274a8-6708-461a-a080-c286283c706f"
      },
      "execution_count": null,
      "outputs": [
        {
          "output_type": "stream",
          "name": "stdout",
          "text": [
            "Precision: 0.907563025210084\n",
            "Recall: 1.0\n",
            "F1-Score: 0.9515418502202643\n"
          ]
        }
      ]
    },
    {
      "cell_type": "markdown",
      "source": [
        "# **Q42. Write a Python program to train a Naïve Bayes Classifier and evaluate its performance using Log Loss (Cross-Entropy Loss)**"
      ],
      "metadata": {
        "id": "REOshdRaJTnY"
      }
    },
    {
      "cell_type": "code",
      "source": [
        "from sklearn.datasets import load_iris\n",
        "from sklearn.model_selection import train_test_split\n",
        "from sklearn.naive_bayes import GaussianNB\n",
        "from sklearn.metrics import log_loss\n",
        "\n",
        "# Load data\n",
        "data = load_iris()\n",
        "X = data.data\n",
        "y = data.target\n",
        "\n",
        "# Train-test split\n",
        "X_train, X_test, y_train, y_test = train_test_split(X, y, test_size=0.3, random_state=42)\n",
        "\n",
        "# Train Naïve Bayes model\n",
        "model = GaussianNB()\n",
        "model.fit(X_train, y_train)\n",
        "\n",
        "# Predict probabilities\n",
        "probs = model.predict_proba(X_test)\n",
        "\n",
        "# Log Loss\n",
        "loss = log_loss(y_test, probs)\n",
        "print(\"Log Loss:\", loss)\n"
      ],
      "metadata": {
        "colab": {
          "base_uri": "https://localhost:8080/"
        },
        "id": "iZgIz5PYJdPd",
        "outputId": "7b1bd0c4-0b6b-49c1-fdef-e595584c7dbc"
      },
      "execution_count": null,
      "outputs": [
        {
          "output_type": "stream",
          "name": "stdout",
          "text": [
            "Log Loss: 0.04896447467183247\n"
          ]
        }
      ]
    },
    {
      "cell_type": "markdown",
      "source": [
        "# **Q43. Write a Python program to train an SVM Classifier and visualize the Confusion Matrix using seaborn**"
      ],
      "metadata": {
        "id": "oIDbs32uJiwi"
      }
    },
    {
      "cell_type": "code",
      "source": [
        "import seaborn as sns\n",
        "import matplotlib.pyplot as plt\n",
        "from sklearn.datasets import load_iris\n",
        "from sklearn.model_selection import train_test_split\n",
        "from sklearn.svm import SVC\n",
        "from sklearn.metrics import confusion_matrix\n",
        "\n",
        "# Load dataset\n",
        "data = load_iris()\n",
        "X = data.data\n",
        "y = data.target\n",
        "\n",
        "# Train-test split\n",
        "X_train, X_test, y_train, y_test = train_test_split(X, y, test_size=0.3, random_state=42)\n",
        "\n",
        "# Train SVM\n",
        "model = SVC()\n",
        "model.fit(X_train, y_train)\n",
        "\n",
        "# Predict\n",
        "y_pred = model.predict(X_test)\n",
        "\n",
        "# Confusion Matrix\n",
        "cm = confusion_matrix(y_test, y_pred)\n",
        "sns.heatmap(cm, annot=True, cmap='Blues', fmt='d')\n",
        "plt.title(\"Confusion Matrix\")\n",
        "plt.xlabel(\"Predicted\")\n",
        "plt.ylabel(\"Actual\")\n",
        "plt.show()\n"
      ],
      "metadata": {
        "colab": {
          "base_uri": "https://localhost:8080/",
          "height": 472
        },
        "id": "MR-Eab66JqDP",
        "outputId": "ddf992f9-c8fd-440c-b60f-b18342defdfb"
      },
      "execution_count": null,
      "outputs": [
        {
          "output_type": "display_data",
          "data": {
            "text/plain": [
              "<Figure size 640x480 with 2 Axes>"
            ],
            "image/png": "[encoded data removed]"
          },
          "metadata": {}
        }
      ]
    },
    {
      "cell_type": "markdown",
      "source": [
        "# **Q44. Write a Python program to train an SVM Regressor (SVR) and evaluate its performance using Mean Absolute Error (MAE) instead of MSE**"
      ],
      "metadata": {
        "id": "Nkg9zsjFJv1O"
      }
    },
    {
      "cell_type": "code",
      "source": [
        "from sklearn.datasets import fetch_california_housing\n",
        "from sklearn.model_selection import train_test_split\n",
        "from sklearn.svm import SVR\n",
        "from sklearn.metrics import mean_absolute_error\n",
        "\n",
        "# Load housing data\n",
        "data = fetch_california_housing()\n",
        "X = data.data\n",
        "y = data.target\n",
        "\n",
        "# Split dataset\n",
        "X_train, X_test, y_train, y_test = train_test_split(X, y, test_size=0.3, random_state=42)\n",
        "\n",
        "# Train SVR model\n",
        "svr = SVR()\n",
        "svr.fit(X_train, y_train)\n",
        "\n",
        "# Predict and evaluate\n",
        "y_pred = svr.predict(X_test)\n",
        "mae = mean_absolute_error(y_test, y_pred)\n",
        "print(\"Mean Absolute Error:\", mae)\n"
      ],
      "metadata": {
        "colab": {
          "base_uri": "https://localhost:8080/"
        },
        "id": "kCS2Sab0J5R0",
        "outputId": "954aa55e-8f2e-47fc-94c8-00b4702c36a0"
      },
      "execution_count": null,
      "outputs": [
        {
          "output_type": "stream",
          "name": "stdout",
          "text": [
            "Mean Absolute Error: 0.8664984635504496\n"
          ]
        }
      ]
    },
    {
      "cell_type": "markdown",
      "source": [
        "# **Q45. Write a Python program to train a Naïve Bayes classifier and evaluate its performance using the ROC-AUC score**"
      ],
      "metadata": {
        "id": "Cac1eeBsKCTN"
      }
    },
    {
      "cell_type": "code",
      "source": [
        "from sklearn.datasets import load_breast_cancer\n",
        "from sklearn.model_selection import train_test_split\n",
        "from sklearn.naive_bayes import GaussianNB\n",
        "from sklearn.metrics import roc_auc_score\n",
        "\n",
        "# Load dataset\n",
        "data = load_breast_cancer()\n",
        "X = data.data\n",
        "y = data.target\n",
        "\n",
        "# Train-test split\n",
        "X_train, X_test, y_train, y_test = train_test_split(X, y, test_size=0.3, random_state=42)\n",
        "\n",
        "# Train model\n",
        "model = GaussianNB()\n",
        "model.fit(X_train, y_train)\n",
        "\n",
        "# Predict probabilities\n",
        "y_prob = model.predict_proba(X_test)[:, 1]\n",
        "\n",
        "# ROC-AUC\n",
        "roc_auc = roc_auc_score(y_test, y_prob)\n",
        "print(\"ROC-AUC Score:\", roc_auc)\n"
      ],
      "metadata": {
        "colab": {
          "base_uri": "https://localhost:8080/"
        },
        "id": "-nKYtTf_KLOM",
        "outputId": "4349dca9-85a7-44e9-8b3f-ba40dfbbcbfd"
      },
      "execution_count": null,
      "outputs": [
        {
          "output_type": "stream",
          "name": "stdout",
          "text": [
            "ROC-AUC Score: 0.9922104644326867\n"
          ]
        }
      ]
    }
  ]
}